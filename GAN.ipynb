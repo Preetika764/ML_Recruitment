{
  "nbformat": 4,
  "nbformat_minor": 0,
  "metadata": {
    "colab": {
      "name": "Untitled5.ipynb",
      "provenance": [],
      "collapsed_sections": [],
      "authorship_tag": "ABX9TyM3AsJPOuACHUxH+KH/95lq",
      "include_colab_link": true
    },
    "kernelspec": {
      "name": "python3",
      "display_name": "Python 3"
    }
  },
  "cells": [
    {
      "cell_type": "markdown",
      "metadata": {
        "id": "view-in-github",
        "colab_type": "text"
      },
      "source": [
        "<a href=\"https://colab.research.google.com/github/Preetika764/ML_Recruitment/blob/master/GAN.ipynb\" target=\"_parent\"><img src=\"https://colab.research.google.com/assets/colab-badge.svg\" alt=\"Open In Colab\"/></a>"
      ]
    },
    {
      "cell_type": "code",
      "metadata": {
        "id": "sUvx2sk4dobS",
        "colab_type": "code",
        "colab": {
          "base_uri": "https://localhost:8080/",
          "height": 225
        },
        "outputId": "413d66ab-860c-47b5-996c-82dbbaf43a2a"
      },
      "source": [
        "!pip install numpy mnist matplotlib sklearn\n",
        "import numpy as np\n",
        "from matplotlib import pyplot as plt\n",
        "import mnist\n",
        "import matplotlib\n",
        "import os\n",
        "import matplotlib.gridspec as gridspec\n"
      ],
      "execution_count": 88,
      "outputs": [
        {
          "output_type": "stream",
          "text": [
            "Requirement already satisfied: numpy in /usr/local/lib/python3.6/dist-packages (1.18.5)\n",
            "Requirement already satisfied: mnist in /usr/local/lib/python3.6/dist-packages (0.2.2)\n",
            "Requirement already satisfied: matplotlib in /usr/local/lib/python3.6/dist-packages (3.2.2)\n",
            "Requirement already satisfied: sklearn in /usr/local/lib/python3.6/dist-packages (0.0)\n",
            "Requirement already satisfied: kiwisolver>=1.0.1 in /usr/local/lib/python3.6/dist-packages (from matplotlib) (1.2.0)\n",
            "Requirement already satisfied: python-dateutil>=2.1 in /usr/local/lib/python3.6/dist-packages (from matplotlib) (2.8.1)\n",
            "Requirement already satisfied: cycler>=0.10 in /usr/local/lib/python3.6/dist-packages (from matplotlib) (0.10.0)\n",
            "Requirement already satisfied: pyparsing!=2.0.4,!=2.1.2,!=2.1.6,>=2.0.1 in /usr/local/lib/python3.6/dist-packages (from matplotlib) (2.4.7)\n",
            "Requirement already satisfied: scikit-learn in /usr/local/lib/python3.6/dist-packages (from sklearn) (0.22.2.post1)\n",
            "Requirement already satisfied: six>=1.5 in /usr/local/lib/python3.6/dist-packages (from python-dateutil>=2.1->matplotlib) (1.12.0)\n",
            "Requirement already satisfied: scipy>=0.17.0 in /usr/local/lib/python3.6/dist-packages (from scikit-learn->sklearn) (1.4.1)\n",
            "Requirement already satisfied: joblib>=0.11 in /usr/local/lib/python3.6/dist-packages (from scikit-learn->sklearn) (0.15.1)\n"
          ],
          "name": "stdout"
        }
      ]
    },
    {
      "cell_type": "code",
      "metadata": {
        "id": "T2MQ79PJhT8J",
        "colab_type": "code",
        "colab": {
          "base_uri": "https://localhost:8080/",
          "height": 86
        },
        "outputId": "b3792ac7-2b28-4f44-d17e-5a06cb411f4d"
      },
      "source": [
        "X_train = mnist.train_images()\n",
        "y_train = mnist.train_labels()\n",
        "X_test = mnist.test_images()\n",
        "y_test = mnist.test_labels()\n",
        "\n",
        "X_train = X_train/255\n",
        "X_test = X_test/255\n",
        "\n",
        "X_train = X_train.reshape((-1,784))\n",
        "X_test = X_test.reshape((-1,784))\n",
        "y_train = y_train.reshape((-1,1))\n",
        "y_test = y_test.reshape((-1, 1))\n",
        "\n",
        "print(X_train.shape)\n",
        "print(X_test.shape)\n",
        "print(y_train.shape)\n",
        "print(y_test.shape)\n",
        "\n",
        "#print(X_train.ndim)"
      ],
      "execution_count": 89,
      "outputs": [
        {
          "output_type": "stream",
          "text": [
            "(60000, 784)\n",
            "(10000, 784)\n",
            "(60000, 1)\n",
            "(10000, 1)\n"
          ],
          "name": "stdout"
        }
      ]
    },
    {
      "cell_type": "code",
      "metadata": {
        "id": "4lWLZmRfjKFh",
        "colab_type": "code",
        "colab": {
          "base_uri": "https://localhost:8080/",
          "height": 282
        },
        "outputId": "6ff7bfcd-22e6-4474-9f7c-ffcef6087d64"
      },
      "source": [
        "x = X_train[7].reshape(28,28)\n",
        "plt.imshow(x, cmap='Greys')"
      ],
      "execution_count": 90,
      "outputs": [
        {
          "output_type": "execute_result",
          "data": {
            "text/plain": [
              "<matplotlib.image.AxesImage at 0x7f2a71c60160>"
            ]
          },
          "metadata": {
            "tags": []
          },
          "execution_count": 90
        },
        {
          "output_type": "display_data",
          "data": {
            "image/png": "[encoded data removed]",
            "text/plain": [
              "<Figure size 432x288 with 1 Axes>"
            ]
          },
          "metadata": {
            "tags": [],
            "needs_background": "light"
          }
        }
      ]
    },
    {
      "cell_type": "code",
      "metadata": {
        "id": "d4A2r6wrjWG2",
        "colab_type": "code",
        "colab": {}
      },
      "source": [
        "def activation(z, derivative=False):\n",
        "    \"\"\"\n",
        "    Sigmoid activation function:\n",
        "    It handles two modes: normal and derivative mode.\n",
        "    Applies a pointwise operation on vectors\n",
        "\n",
        "    Parameters:\n",
        "    ---\n",
        "    z: pre-activation vector at layer l\n",
        "        shape (n[l], batch_size)\n",
        "    Returns:\n",
        "    pontwize activation on each element of the input z\n",
        "    \"\"\"\n",
        "    if derivative:\n",
        "        n_sigmoid = np.zeros(z.shape)\n",
        "        n_sigmoid = 1 / (1 + np.exp(-z))\n",
        "        d_sigmoid = np.zeros(z.shape)\n",
        "        d_sigmoid = n_sigmoid(z) + (1 - n_sigmoid(z))\n",
        "        return d_sigmoid\n",
        "        # return the derivative of the sigmoid activation function\n",
        "    else:\n",
        "        n_sigmoid = np.zeros(z.shape)\n",
        "        n_sigmoid = 1 / (1 + np.exp(-z))\n",
        "        return n_sigmoid\n",
        "        # return the normal sigmoid activation function\n"
      ],
      "execution_count": 91,
      "outputs": []
    },
    {
      "cell_type": "code",
      "metadata": {
        "id": "FTbtVc4Ojf1w",
        "colab_type": "code",
        "colab": {}
      },
      "source": [
        "def cost_function(y_true, y_pred):\n",
        "    \"\"\"\n",
        "    Computes the Mean Square Error between a ground truth vector and a prediction vector\n",
        "    Parameters:\n",
        "    ---\n",
        "    y_true: ground-truth vector\n",
        "    y_pred: prediction vector\n",
        "    Returns:\n",
        "    ---\n",
        "    cost: a scalar value representing the loss\n",
        "    \"\"\"\n",
        "    n = y_pred.shape[1]\n",
        "    cost = (1./(2*n)) * np.sum((y_true - y_pred) ** 2)\n",
        "    return cost\n",
        "\n",
        "def cost_function_prime(y_true, y_pred):\n",
        "    \"\"\"\n",
        "    Computes the derivative of the loss function w.r.t the activation of the output layer\n",
        "    Parameters:\n",
        "    ---\n",
        "    y_true: ground-truth vector\n",
        "    y_pred: prediction vector\n",
        "    Returns:\n",
        "    ---\n",
        "    cost_prime: derivative of the loss w.r.t. the activation of the output\n",
        "    shape: (n[L], batch_size)\n",
        "    \"\"\"\n",
        "\n",
        "    # Calculate the derivative of the cost function\n",
        "\n",
        "    #derivative of cost_function \n",
        "    cost_prime = (y_pred - y_true)\n",
        "    return cost_prime\n",
        "\n",
        "    \n",
        "def log(x):\n",
        "    return 1 / ( 1+ np.exp(-1*x))\n",
        "def d_log(x):\n",
        "    return log(x) * (1 - log(x))\n",
        "\n",
        "def plot(samples):\n",
        "    fig = plt.figure(figsize=(4, 4))\n",
        "    gs = gridspec.GridSpec(4, 4)\n",
        "    gs.update(wspace=0.05, hspace=0.05)\n",
        "\n",
        "    for i, sample in enumerate(samples):\n",
        "        ax = plt.subplot(gs[i])\n",
        "        plt.axis('off')\n",
        "        ax.set_xticklabels([])\n",
        "        ax.set_yticklabels([])\n",
        "        ax.set_aspect('equal')\n",
        "        plt.imshow(sample.reshape(28, 28), cmap='Greys_r')\n",
        "\n",
        "    return fig\n",
        "\n",
        "epochs = 10\n",
        "#epoch refers to one cycle through the full training dataset\n",
        "lr = 0.0001\n",
        "\n",
        "\n",
        "#Initializing the weights and biases for generator and discriminator\n",
        "\n",
        "Discriminator_W1 = np.random.normal(size=(784,128),scale=(1. / np.sqrt(784 / 2.)))   *0.002\n",
        "Discriminator_b1 = np.zeros(128)\n",
        "\n",
        "Discriminator_W2 = np.random.normal(size=(128,1),scale=(1. / np.sqrt(128 / 2.)))     *0.002\n",
        "Discriminator_b2 = np.zeros(1)\n",
        "\n",
        "\n",
        "Generator_W1 = np.random.normal(size=(100,128),scale=(1. / np.sqrt(100 / 2.)))   *0.002\n",
        "Generator_b1 = np.zeros(128)\n",
        "\n",
        "Generator_W2 = np.random.normal(size=(128,784),scale=(1. / np.sqrt(128 / 2.)))   *0.002\n",
        "Generator_b2 = np.zeros(784)\n",
        "\n",
        "\n",
        "\n",
        "\n",
        "beta_1,beta_2,epsilon = 0.9,0.999,0.00000001\n",
        "\n",
        "\n",
        "\n",
        "\n"
      ],
      "execution_count": 92,
      "outputs": []
    },
    {
      "cell_type": "code",
      "metadata": {
        "id": "lsAQRurWjmcQ",
        "colab_type": "code",
        "colab": {
          "base_uri": "https://localhost:8080/",
          "height": 248
        },
        "outputId": "722a4570-d678-4751-f5ec-667f26cc628e"
      },
      "source": [
        "for iter in range(epochs):\n",
        "\n",
        "    num = np.random.randint(59999)\n",
        "    current_image = np.expand_dims(X_train[num],axis=0)\n",
        "\n",
        "    #Generating the fake data\n",
        "\n",
        "    Z = np.random.uniform(0, 1., size=[1, 100])\n",
        "    Generator_l1 = Z.dot(Generator_W1) + Generator_b1\n",
        "    Generator_l1A = log(Generator_l1)\n",
        "    Generator_l2 = Generator_l1A.dot(Generator_W2) + Generator_b2\n",
        "    \n",
        "    cfd = log(Generator_l2)\n",
        "\n",
        "    #Forward propagation for real data\n",
        "\n",
        "    Discriminator_l1_r = current_image.dot(Discriminator_W1) + Discriminator_b1\n",
        "    Discriminator_l1_rA = log(Discriminator_l1_r)\n",
        "    Discriminator_l2_r = Discriminator_l1_rA.dot(Discriminator_W2) + Discriminator_b2\n",
        "    Discriminator_l2_rA = log(Discriminator_l2_r)\n",
        "\n",
        "    #Forward propagation for fake data\n",
        "    Discriminator_l1_f = cfd.dot(Discriminator_W1) + Discriminator_b1\n",
        "    Discriminator_l1_fA = log(Discriminator_l1_f)\n",
        "    Discriminator_l2_f = Discriminator_l1_fA.dot(Discriminator_W2) + Discriminator_b2\n",
        "    Discriminator_l2_fA = log(Discriminator_l2_f)\n",
        "\n",
        "    #Now we calculate the cost for the discriminator\n",
        "\n",
        "    Discriminator_cost = -np.log(Discriminator_l2_rA) + np.log(1.0- Discriminator_l2_fA)\n",
        "\n",
        "\n",
        "    #Back propagation for discriminator\n",
        "\n",
        "    grad_f_w2 =  (Discriminator_l1_fA).T.dot((1/(1.0- Discriminator_l2_fA)) * (d_log(Discriminator_l2_f))) \n",
        "    grad_f_b2 = (1/(1.0- Discriminator_l2_fA)) * (d_log(Discriminator_l2_f))\n",
        "\n",
        "    grad_f_w1 = cfd.T.dot((((1/(1.0- Discriminator_l2_fA))* (d_log(Discriminator_l2_f))).dot(Discriminator_W2.T)) * (d_log(Discriminator_l1_f))) \n",
        "    grad_f_b1 = (((1/(1.0- Discriminator_l2_fA))* (d_log(Discriminator_l2_f))).dot(Discriminator_W2.T)) * (d_log(Discriminator_l1_f))\n",
        "\n",
        " \n",
        "    grad_r_w2 = (Discriminator_l1_rA).T.dot((- 1/Discriminator_l2_rA) * (d_log(Discriminator_l2_r))) \n",
        "    grad_r_b2 = (- 1/Discriminator_l2_rA)* (d_log(Discriminator_l2_r))\n",
        "\n",
        "    grad_r_w1 =       current_image.T.dot((((- 1/Discriminator_l2_rA) * (d_log(Discriminator_l2_r))).dot(Discriminator_W2.T)) * (d_log(Discriminator_l1_r))) \n",
        "    grad_r_b1 =       (((- 1/Discriminator_l2_rA) * (d_log(Discriminator_l2_r))).dot(Discriminator_W2.T))* (d_log(Discriminator_l1_r))\n",
        "\n",
        "    grad_w1 =grad_f_w1 + grad_r_w1\n",
        "    grad_b1 =grad_f_b1 + grad_r_b1\n",
        "    \n",
        "    grad_w2 =grad_f_w2 + grad_r_w2\n",
        "    grad_b2 =grad_f_b2 + grad_r_b2\n",
        "\n",
        "    # ---- Update Gradient ----\n",
        "\n",
        "    v1,m1 = 0,0\n",
        "    v2,m2 = 0,0\n",
        "    v3,m3 = 0,0\n",
        "    v4,m4 = 0,0\n",
        "    m1 = beta_1 * m1 + (1 - beta_1) * grad_w1\n",
        "    v1 = beta_2 * v1 + (1 - beta_2) * grad_w1 ** 2\n",
        "\n",
        "    m2 = beta_1 * m2 + (1 - beta_1) * grad_b1\n",
        "    v2 = beta_2 * v2 + (1 - beta_2) * grad_b1 ** 2\n",
        "\n",
        "    m3 = beta_1 * m3 + (1 - beta_1) * grad_w2\n",
        "    v3 = beta_2 * v3 + (1 - beta_2) * grad_w2 ** 2\n",
        "\n",
        "    m4 = beta_1 * m4 + (1 - beta_1) * grad_b2\n",
        "    v4 = beta_2 * v4 + (1 - beta_2) * grad_b2 ** 2\n",
        "\n",
        "    Discriminator_W1 = Discriminator_W1 - (lr / (np.sqrt(v1 /(1-beta_2) ) + eps)) * (m1/(1-beta_1))\n",
        "    Discriminator_b1 = Discriminator_b1 - (lr / (np.sqrt(v2 /(1-beta_2) ) + eps)) * (m2/(1-beta_1))\n",
        "    \n",
        "    Discriminator_W2 = Discriminator_W2 - (lr / (np.sqrt(v3 /(1-beta_2) ) + eps)) * (m3/(1-beta_1))\n",
        "    Discriminator_b2 = Discriminator_b2 - (lr / (np.sqrt(v4 /(1-beta_2) ) + eps)) * (m4/(1-beta_1))\n",
        "\n",
        "\n",
        "    #Forward propagation for generator\n",
        "\n",
        "    Z = np.random.uniform(-1., 1., size=[1, 100])\n",
        "    Generator_l1 = Z.dot(Generator_W1) + Generator_b1\n",
        "    Generator_l1A = log(Generator_l1)\n",
        "    Generator_l2 = Generator_l1A.dot(Generator_W2) + Generator_b2\n",
        "  \n",
        "    cfd = log(Generator_l2)\n",
        "\n",
        "    Discriminator_l1 = cfd.dot(Discriminator_W1) + Discriminator_b1\n",
        "    Discriminator_l1_A = log(Discriminator_l1)\n",
        "    Discriminator_l2 = Discriminator_l1_A.dot(Discriminator_W2) + Discriminator_b2\n",
        "    Discriminator_l2_A = log(Discriminator_l2)\n",
        "\n",
        "     #Calculation the cost for generator\n",
        "\n",
        "    Generator_cost = -np.log(Discriminator_l2_A)\n",
        "\n",
        "\n",
        "    #Back propagation for generator\n",
        "\n",
        "    g1 = ((-1/Discriminator_l2_A) * d_log(Discriminator_l2).dot(Discriminator_W2.T) * (d_log(Discriminator_l1))).dot(Discriminator_W1.T)\n",
        "    grad_Generator_w2 = (Generator_l1A).T.dot(g1 * ( d_log(Generator_l2)))\n",
        "    grad_Generator_b2 = (g1 * ( d_log(Generator_l2)))\n",
        "\n",
        "    grad_Generator_w1 = Z.T.dot(( (g1 *  d_log(Generator_l2)).dot(Generator_W2.T)) * d_log(Generator_l1))\n",
        "    grad_Generator_b1 = ( (g1 *  d_log(Generator_l2)).dot(Generator_W2.T))* (d_log(Generator_l1))\n",
        "\n",
        "    v5,m5 = 0,0\n",
        "    v6,m6 = 0,0\n",
        "    v7,m7 = 0,0\n",
        "    v8,m8 = 0,0\n",
        "    m5 = beta_1 * m5 + (1 - beta_1) * grad_Generator_w1\n",
        "    v5 = beta_2 * v5 + (1 - beta_2) * grad_Generator_w1 ** 2\n",
        "\n",
        "    m6 = beta_1 * m6 + (1 - beta_1) * grad_Generator_b1\n",
        "    v6 = beta_2 * v6 + (1 - beta_2) * grad_Generator_b1 ** 2\n",
        "\n",
        "    m7 = beta_1 * m7 + (1 - beta_1) * grad_Generator_w2\n",
        "    v7 = beta_2 * v7 + (1 - beta_2) * grad_Generator_w2 ** 2\n",
        "\n",
        "    m8 = beta_1 * m8 + (1 - beta_1) * grad_Generator_b2\n",
        "    v8 = beta_2 * v8 + (1 - beta_2) * grad_Generator_b2 ** 2\n",
        "\n",
        "    Generator_W1 = Generator_W1 - (lr/ (np.sqrt(v5 /(1-beta_2) ) + eps)) * (m5/(1-beta_1))\n",
        "    Generator_b1 = Generator_b1 - (lr / (np.sqrt(v6 /(1-beta_2) ) + eps)) * (m6/(1-beta_1))\n",
        "    \n",
        "    Generator_W2 = Generator_W2 - (lr / (np.sqrt(v7 /(1-beta_2) ) + eps)) * (m7/(1-beta_1))\n",
        "    Generator_b2 = Generator_b2 - (lr / (np.sqrt(v8 /(1-beta_2) ) + eps)) * (m8/(1-beta_1))\n",
        "\n",
        "    if iter == 0:\n",
        "          lr = lr * 0.01\n",
        "    if iter == 40:\n",
        "          lr= lr * 0.01\n",
        "\n",
        " \n",
        "    if iter%10 == 0:\n",
        "        \n",
        "        \n",
        "          Z = np.random.uniform(0, 1., size=[16, 100]) \n",
        "\n",
        "          Generator_l1 = Z.dot(Generator_W1) + Generator_b1\n",
        "          Generator_l1A = log(Generator_l1)\n",
        "          Generator_l2 = Generator_l1A.dot(Generator_W2) + Generator_b2\n",
        "        \n",
        "          cfd= log(Generator_l2)\n",
        "        \n",
        "          fig = plot(cfd)\n",
        "       \n",
        "\n",
        "\n",
        "\n",
        "\n"
      ],
      "execution_count": 93,
      "outputs": [
        {
          "output_type": "display_data",
          "data": {
            "image/png": "[encoded data removed]",
            "text/plain": [
              "<Figure size 288x288 with 16 Axes>"
            ]
          },
          "metadata": {
            "tags": [],
            "needs_background": "light"
          }
        }
      ]
    },
    {
      "cell_type": "code",
      "metadata": {
        "id": "Wywx_nx56RQV",
        "colab_type": "code",
        "colab": {}
      },
      "source": [
        "   \n"
      ],
      "execution_count": 59,
      "outputs": []
    },
    {
      "cell_type": "code",
      "metadata": {
        "id": "mjEzl0x46ZsB",
        "colab_type": "code",
        "colab": {}
      },
      "source": [
        "    "
      ],
      "execution_count": 60,
      "outputs": []
    },
    {
      "cell_type": "code",
      "metadata": {
        "id": "JVZLqxn8pYLr",
        "colab_type": "code",
        "colab": {}
      },
      "source": [
        "        \n",
        "\n"
      ],
      "execution_count": 61,
      "outputs": []
    },
    {
      "cell_type": "code",
      "metadata": {
        "id": "pzmbohZ17k3O",
        "colab_type": "code",
        "colab": {}
      },
      "source": [
        ""
      ],
      "execution_count": 61,
      "outputs": []
    }
  ]
}